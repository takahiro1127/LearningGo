{
 "cells": [
  {
   "cell_type": "code",
   "execution_count": 49,
   "metadata": {},
   "outputs": [],
   "source": [
    "import numpy as np\n",
    "import pandas as pd\n",
    "import mypy\n",
    "from typing import NewType, Dict, List"
   ]
  },
  {
   "cell_type": "code",
   "execution_count": 50,
   "metadata": {},
   "outputs": [],
   "source": [
    "class Inventory:\n",
    "    transfer_fee: float = 1\n",
    "    transfer: float = 1\n",
    "    def __init__(name: str, amount: float, rate: float):\n",
    "        self.name: str = name\n",
    "        self.amount: float = amount\n",
    "        self.rate: float = rate\n",
    "    def __add__(self, other):\n",
    "        if (self.name != other.name):\n",
    "            print(\"異なる資産同士の足し算です\")\n",
    "            return other\n",
    "        return"
   ]
  },
  {
   "cell_type": "code",
   "execution_count": 54,
   "metadata": {},
   "outputs": [],
   "source": [
    "Inventories = NewType('Inventories', Dict[str, Inventory])\n",
    "Percentages = NewType('Percentages', Dict[str, float])\n",
    "Rates = NewType('Rates', Dict[str, float])\n",
    "class Balance:\n",
    "    def __init__(total_asset: float):\n",
    "        self.inventories: Inventories\n",
    "        self.totalAsset: float = total_asset\n",
    "    \n",
    "    #     rebalanceして、total amountを返り値にする\n",
    "    def rebalance(percentages: Percentages, rates: Rates):\n",
    "        self.adjustTotalAsset(rates)\n",
    "        for percentage in percentages.item():\n",
    "            \n",
    "        return\n",
    "    \n",
    "    def adjustTotalAsset(rates: Rates):\n",
    "        self.totalAsset = 0\n",
    "        for inventory in self.inventories.items():\n",
    "            self.totalAsset += inventory.amount * rates[intventory.name]"
   ]
  },
  {
   "cell_type": "code",
   "execution_count": 15,
   "metadata": {},
   "outputs": [
    {
     "ename": "SyntaxError",
     "evalue": "invalid syntax (<ipython-input-15-d8190844e5d4>, line 2)",
     "output_type": "error",
     "traceback": [
      "\u001b[0;36m  File \u001b[0;32m\"<ipython-input-15-d8190844e5d4>\"\u001b[0;36m, line \u001b[0;32m2\u001b[0m\n\u001b[0;31m    def __init__(totalAsset: float, date: str): ->None\u001b[0m\n\u001b[0m                                                ^\u001b[0m\n\u001b[0;31mSyntaxError\u001b[0m\u001b[0;31m:\u001b[0m invalid syntax\n"
     ]
    }
   ],
   "source": [
    "class BalanceSheet:\n",
    "    def __init__(totalAsset: float, date: str): ->None\n",
    "        self.profit: float = 0\n",
    "        self.totalAsset: float = totalAsset\n",
    "        self.date: str = date\n",
    "        self.balance: Balance\n",
    "\n",
    "    def rebalance(date: str, percentages: Percentages, rates: Rates):\n",
    "        self.date = date\n",
    "        self.totalAsset = self.balance.rebalance(percentages, rates)\n",
    "        \n",
    "    def save(): -> None\n",
    "#         csvに現在のbalance sheetの状態を保存する"
   ]
  },
  {
   "cell_type": "code",
   "execution_count": null,
   "metadata": {},
   "outputs": [],
   "source": [
    "# シミュレーション部分の想像\n",
    "for day in days:\n",
    "    balanceSheet.reablance(day, percentages, rate)\n",
    "    balanceSheet.save()"
   ]
  }
 ],
 "metadata": {
  "kernelspec": {
   "display_name": "Python 3",
   "language": "python",
   "name": "python3"
  },
  "language_info": {
   "codemirror_mode": {
    "name": "ipython",
    "version": 3
   },
   "file_extension": ".py",
   "mimetype": "text/x-python",
   "name": "python",
   "nbconvert_exporter": "python",
   "pygments_lexer": "ipython3",
   "version": "3.8.2"
  }
 },
 "nbformat": 4,
 "nbformat_minor": 4
}
