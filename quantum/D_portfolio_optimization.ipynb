{
 "cells": [
  {
   "cell_type": "code",
   "execution_count": 11,
   "metadata": {},
   "outputs": [],
   "source": [
    "import numpy as np\n",
    "from dwave.system.samplers import DWaveSampler\n",
    "from dwave.system.composites import EmbeddingComposite\n",
    "import neal"
   ]
  },
  {
   "cell_type": "code",
   "execution_count": 14,
   "metadata": {},
   "outputs": [],
   "source": [
    "#リターンベクトル(縦ベクトルとして定義)\n",
    "r=np.array([[0.01,0.02,0.03,0.04,0.05]]).T\n",
    "#共分散行列\n",
    "C=np.array([[ 0.01   , -0.0062 ,  0.0238 ,  0.0209 ,  0.0096 ],\\\n",
    "            [-0.0062 ,  0.0225 ,  0.01455,  0.0264 ,  0.0147 ],\\\n",
    "            [ 0.0238 ,  0.01455,  0.04   ,  0.0114 ,  0.0049 ],\\\n",
    "            [ 0.0209 ,  0.0264 ,  0.0114 ,  0.0625 ,  0.0057 ],\\\n",
    "            [ 0.0096 ,  0.0147 ,  0.0049 ,  0.0057 ,  0.09   ]])\n",
    "\n",
    "#N=5資産D=10量子ビットを各資産に対応\n",
    "N=5\n",
    "D=10\n",
    "K=6\n",
    "\n",
    "#ガンマとラムダを定義\n",
    "gamma=1.2\n",
    "lam=0.2"
   ]
  },
  {
   "cell_type": "code",
   "execution_count": 15,
   "metadata": {},
   "outputs": [],
   "source": [
    "#QUBO matrix を計算\n",
    "\n",
    "#変換の為の配列を作成\n",
    "\n",
    "#変換行列B(表記はわかりにくですね..)\n",
    "B=np.vstack([np.roll([(1 if i<D else 0) for i in range(N*D)],j*D) for j in range(N)])\n",
    "\n",
    "#要素が全て1のベクトル\n",
    "l=np.ones(N)\n",
    "\n",
    "A=np.ones((N,N))\n",
    "\n",
    "Q=-np.diag(np.dot(r.T,B))+gamma*np.dot(B.T,np.dot(C,B))+lam*(np.dot(B.T,np.dot(A,B))-2*K*np.diag(np.dot(l,B)))\n",
    "\n",
    "Q=np.triu(Q)+np.triu(Q,k=1) #非対角成分を二倍し上三角行列に\n",
    "Q=Q/np.max(np.abs(Q))  #規格化しないと桁落ちにより正しい解が得られないことがあります\n"
   ]
  },
  {
   "cell_type": "code",
   "execution_count": 16,
   "metadata": {},
   "outputs": [],
   "source": [
    "#問題を与える時は辞書にして渡す必要があるので変換\n",
    "\n",
    "Qdict=dict()\n",
    "\n",
    "for i in range(N*D):\n",
    "    for j in range(N*D):\n",
    "        if i<=j:\n",
    "            Qdict.update({(i,j):Q[i,j]})"
   ]
  },
  {
   "cell_type": "code",
   "execution_count": 7,
   "metadata": {},
   "outputs": [],
   "source": [
    "#問題をapiに投げ、結果を取得 (*)\n",
    "# sampler = EmbeddingComposite(DWaveSampler()) \n",
    "# response = sampler.sample_qubo(Qdict,num_reads=10000)"
   ]
  },
  {
   "cell_type": "code",
   "execution_count": 8,
   "metadata": {},
   "outputs": [
    {
     "name": "stdout",
     "output_type": "stream",
     "text": [
      "[0.1 0.1 0.  0.1 0. ]\n"
     ]
    }
   ],
   "source": [
    "#目的関数が最小な解を取得し、ウェイトに変換\n",
    "answer=response.lowest().record[0][0]\n",
    "weight=np.dot(B,answer)/D\n",
    "print(weight)"
   ]
  },
  {
   "cell_type": "code",
   "execution_count": 17,
   "metadata": {},
   "outputs": [],
   "source": [
    "#問題をapiに投げ、結果を取得 (*)\n",
    "sampler = neal.SimulatedAnnealingSampler() \n",
    "response = sampler.sample_qubo(Qdict,num_reads=10000)"
   ]
  },
  {
   "cell_type": "code",
   "execution_count": 18,
   "metadata": {},
   "outputs": [
    {
     "name": "stdout",
     "output_type": "stream",
     "text": [
      "[0.4 0.2 0.  0.  0. ]\n"
     ]
    }
   ],
   "source": [
    "answer=response.lowest().record[0][0]\n",
    "weight=np.dot(B,answer)/D\n",
    "print(weight)"
   ]
  },
  {
   "cell_type": "code",
   "execution_count": null,
   "metadata": {},
   "outputs": [],
   "source": []
  }
 ],
 "metadata": {
  "kernelspec": {
   "display_name": "Python 3",
   "language": "python",
   "name": "python3"
  },
  "language_info": {
   "codemirror_mode": {
    "name": "ipython",
    "version": 3
   },
   "file_extension": ".py",
   "mimetype": "text/x-python",
   "name": "python",
   "nbconvert_exporter": "python",
   "pygments_lexer": "ipython3",
   "version": "3.8.2"
  }
 },
 "nbformat": 4,
 "nbformat_minor": 4
}
