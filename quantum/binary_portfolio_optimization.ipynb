{
 "cells": [
  {
   "cell_type": "code",
   "execution_count": 1,
   "metadata": {},
   "outputs": [],
   "source": [
    "import numpy as np\n",
    "from dwave.system.samplers import DWaveSampler\n",
    "from dwave.system.composites import EmbeddingComposite"
   ]
  },
  {
   "cell_type": "code",
   "execution_count": 14,
   "metadata": {},
   "outputs": [],
   "source": [
    "#リターンベクトル\n",
    "r=np.array([0.01,0.02,0.03,0.04,0.05])\n",
    "\n",
    "#共分散行列\n",
    "C=np.array([[ 0.01   , -0.0062 ,  0.0238 ,  0.0209 ,  0.0096 ],\\\n",
    "            [-0.0062 ,  0.0225 ,  0.01455,  0.0264 ,  0.0147 ],\\\n",
    "            [ 0.0238 ,  0.01455,  0.04   ,  0.0114 ,  0.0049 ],\\\n",
    "            [ 0.0209 ,  0.0264 ,  0.0114 ,  0.0625 ,  0.0057 ],\\\n",
    "            [ 0.0096 ,  0.0147 ,  0.0049 ,  0.0057 ,  0.09   ]])\n",
    "\n",
    "#N=5資産中K=3資産の等ウェイトポートフォリオ\n",
    "N=5\n",
    "K=3\n",
    "\n",
    "#ガンマとラムダを定義\n",
    "gamma=1.2\n",
    "lam=1"
   ]
  },
  {
   "cell_type": "code",
   "execution_count": 19,
   "metadata": {},
   "outputs": [],
   "source": [
    "#QUBO matrix を計算\n",
    "R=np.diag(r)\n",
    "A=np.ones([N,N])-2*K*np.eye(N)\n",
    "\n",
    "Q=-R+gamma*C+lam*A\n",
    "Q=np.triu(Q)+np.triu(Q,k=1)#非対角成分を2倍して上三角行列に変換\n",
    "\n",
    "Q=Q/np.mean(Q) #規格化しないと桁落ちにより正しい解が得られないことがあります "
   ]
  },
  {
   "cell_type": "code",
   "execution_count": 20,
   "metadata": {},
   "outputs": [],
   "source": [
    "Qdict=dict()\n",
    "\n",
    "for i in range(N):\n",
    "    for j in range(N):\n",
    "        if i<=j:\n",
    "            Qdict.update({(\"x\"+str(i),\"x\"+str(j)):Q[i,j]})"
   ]
  },
  {
   "cell_type": "code",
   "execution_count": 21,
   "metadata": {},
   "outputs": [
    {
     "name": "stdout",
     "output_type": "stream",
     "text": [
      "  x0 x1 x2 x3 x4 energy num_oc. chain_.\n",
      "0  0  0  0  0  0    0.0     999     0.0\n",
      "1  1  1  1  1  1   25.0       1     0.0\n",
      "['BINARY', 2 rows, 1000 samples, 5 variables]\n"
     ]
    }
   ],
   "source": [
    "#問題をapiに投げ、結果を取得\n",
    "sampler = EmbeddingComposite(DWaveSampler())\n",
    "response = sampler.sample_qubo(Qdict,num_reads=1000)\n",
    "print(response)"
   ]
  },
  {
   "cell_type": "code",
   "execution_count": null,
   "metadata": {},
   "outputs": [],
   "source": []
  }
 ],
 "metadata": {
  "kernelspec": {
   "display_name": "Python 3",
   "language": "python",
   "name": "python3"
  },
  "language_info": {
   "codemirror_mode": {
    "name": "ipython",
    "version": 3
   },
   "file_extension": ".py",
   "mimetype": "text/x-python",
   "name": "python",
   "nbconvert_exporter": "python",
   "pygments_lexer": "ipython3",
   "version": "3.8.2"
  }
 },
 "nbformat": 4,
 "nbformat_minor": 4
}
