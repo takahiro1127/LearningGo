{
 "cells": [
  {
   "cell_type": "code",
   "execution_count": 88,
   "metadata": {},
   "outputs": [],
   "source": [
    "import numpy as np\n",
    "import pandas as pd\n",
    "from matplotlib import pyplot as plt\n",
    "import seaborn as sns\n",
    "%matplotlib inline"
   ]
  },
  {
   "cell_type": "code",
   "execution_count": 99,
   "metadata": {},
   "outputs": [],
   "source": [
    "# 日本円のレートをかけることで、レートを変換するという手もある。\n",
    "assetNames = ['EURO', 'AUL', 'CAN','FRA','GER','JAP', 'USA']\n",
    "fileNames = ['EZU','EWA' ,'EWC','EWQ','EWG','EWJ', '^GSPC']"
   ]
  },
  {
   "cell_type": "code",
   "execution_count": null,
   "metadata": {},
   "outputs": [],
   "source": []
  },
  {
   "cell_type": "code",
   "execution_count": 101,
   "metadata": {},
   "outputs": [],
   "source": [
    "index = 0\n",
    "dates = []\n",
    "for assetName in assetNames:\n",
    "    fileName = fileNames[index]\n",
    "    dataTable = pd.read_csv(fileName + '.csv')\n",
    "    index += 1\n",
    "    dates.extend(dataTable['Date'])\n",
    "dates = sorted(list(set(dates)))\n",
    "prices = pd.DataFrame(columns = assetNames, index = dates)"
   ]
  },
  {
   "cell_type": "code",
   "execution_count": null,
   "metadata": {},
   "outputs": [],
   "source": []
  },
  {
   "cell_type": "code",
   "execution_count": 102,
   "metadata": {},
   "outputs": [],
   "source": [
    "index = 0\n",
    "for assetName in assetNames:\n",
    "    fileName = fileNames[index]\n",
    "    dataTable = pd.read_csv(fileName + '.csv')\n",
    "    index += 1\n",
    "    for jndex, record in dataTable.iterrows():\n",
    "        prices.loc[record[\"Date\"], assetName] = record[\"Close\"]\n",
    "prices.to_csv('price.csv')"
   ]
  },
  {
   "cell_type": "code",
   "execution_count": null,
   "metadata": {},
   "outputs": [],
   "source": []
  },
  {
   "cell_type": "code",
   "execution_count": null,
   "metadata": {},
   "outputs": [],
   "source": []
  },
  {
   "cell_type": "code",
   "execution_count": null,
   "metadata": {},
   "outputs": [],
   "source": []
  }
 ],
 "metadata": {
  "kernelspec": {
   "display_name": "Python 3",
   "language": "python",
   "name": "python3"
  },
  "language_info": {
   "codemirror_mode": {
    "name": "ipython",
    "version": 3
   },
   "file_extension": ".py",
   "mimetype": "text/x-python",
   "name": "python",
   "nbconvert_exporter": "python",
   "pygments_lexer": "ipython3",
   "version": "3.7.6"
  }
 },
 "nbformat": 4,
 "nbformat_minor": 4
}
