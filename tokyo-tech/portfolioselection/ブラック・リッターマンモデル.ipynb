{
 "cells": [
  {
   "cell_type": "code",
   "execution_count": 2,
   "metadata": {},
   "outputs": [],
   "source": [
    "import numpy as np\n",
    "import pandas as pd\n",
    "import matplotlib.pyplot as plt\n",
    "# https://qiita.com/nokomitch/items/0d1812763114e6266bf3"
   ]
  },
  {
   "cell_type": "code",
   "execution_count": 3,
   "metadata": {},
   "outputs": [],
   "source": [
    "\n",
    "# ウェイト\n",
    "w = np.array([[0.016, 0.022, 0.052, 0.055, 0.116, 0.124, 0.615]]).T\n",
    "# 相関行列\n",
    "correlation = np.array([\n",
    "        [1, 0.488, 0.478, 0.515, 0.439, 0.512, 0.491],\n",
    "        [0.488, 1, 0.664, 0.655, 0.310, 0.608, 0.779],\n",
    "        [0.478, 0.664, 1, 0.861, 0.355, 0.783, 0.668],\n",
    "        [0.515, 0.655, 0.861, 1, 0.354, 0.777, 0.653],\n",
    "        [0.439, 0.310, 0.355, 0.354, 1, 0.405, 0.306],\n",
    "        [0.512, 0.608, 0.783, 0.777, 0.405, 1, 0.652],\n",
    "        [0.491, 0.779, 0.668, 0.653, 0.306, 0.652, 1]])\n",
    "# 標準偏差\n",
    "std = np.array([[0.16, 0.203, 0.248, 0.271, 0.21, 0.2, 0.187]])\n",
    "# 相関行列と標準偏差から共分散行列を計算\n",
    "Sigma = correlation * np.dot(std.T, std)\n",
    "# パラメータdelta  値はHe&Litterman(1999)に従う\n",
    "delta = 2.5\n",
    "# パラメータtau  値はHe&Litterman(1999)に従う\n",
    "tau = 0.05"
   ]
  },
  {
   "cell_type": "code",
   "execution_count": null,
   "metadata": {},
   "outputs": [],
   "source": []
  }
 ],
 "metadata": {
  "kernelspec": {
   "display_name": "Python 3",
   "language": "python",
   "name": "python3"
  },
  "language_info": {
   "codemirror_mode": {
    "name": "ipython",
    "version": 3
   },
   "file_extension": ".py",
   "mimetype": "text/x-python",
   "name": "python",
   "nbconvert_exporter": "python",
   "pygments_lexer": "ipython3",
   "version": "3.6.5"
  }
 },
 "nbformat": 4,
 "nbformat_minor": 2
}
