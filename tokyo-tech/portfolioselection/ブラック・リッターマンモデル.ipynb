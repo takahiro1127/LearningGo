{
 "cells": [
  {
   "cell_type": "code",
   "execution_count": 1,
   "metadata": {},
   "outputs": [],
   "source": [
    "import numpy as np\n",
    "import pandas as pd\n",
    "import matplotlib.pyplot as plt\n",
    "# https://qiita.com/nokomitch/items/0d1812763114e6266bf3"
   ]
  },
  {
   "cell_type": "code",
   "execution_count": 2,
   "metadata": {},
   "outputs": [],
   "source": [
    "\n",
    "# ウェイト\n",
    "w = np.array([[0.016, 0.022, 0.052, 0.055, 0.116, 0.124, 0.615]]).T\n",
    "# 相関行列\n",
    "correlation = np.array([\n",
    "        [1, 0.488, 0.478, 0.515, 0.439, 0.512, 0.491],\n",
    "        [0.488, 1, 0.664, 0.655, 0.310, 0.608, 0.779],\n",
    "        [0.478, 0.664, 1, 0.861, 0.355, 0.783, 0.668],\n",
    "        [0.515, 0.655, 0.861, 1, 0.354, 0.777, 0.653],\n",
    "        [0.439, 0.310, 0.355, 0.354, 1, 0.405, 0.306],\n",
    "        [0.512, 0.608, 0.783, 0.777, 0.405, 1, 0.652],\n",
    "        [0.491, 0.779, 0.668, 0.653, 0.306, 0.652, 1]])\n",
    "# 標準偏差\n",
    "std = np.array([[0.16, 0.203, 0.248, 0.271, 0.21, 0.2, 0.187]])\n",
    "# 相関行列と標準偏差から共分散行列を計算\n",
    "Sigma = correlation * np.dot(std.T, std)\n",
    "# パラメータdelta  値はHe&Litterman(1999)に従う\n",
    "delta = 2.5\n",
    "# パラメータtau  値はHe&Litterman(1999)に従う\n",
    "tau = 0.05"
   ]
  },
  {
   "cell_type": "code",
   "execution_count": 3,
   "metadata": {},
   "outputs": [],
   "source": [
    "# 均衡リターンを求める(reverse optimization)\n",
    "r_eq = delta * np.dot(Sigma, w)"
   ]
  },
  {
   "cell_type": "code",
   "execution_count": 4,
   "metadata": {},
   "outputs": [],
   "source": [
    "# 見通しの作成\n",
    "P = np.array([\n",
    "        [0,0,-0.295,1,0,-0.705,0],\n",
    "        [0,1,0,0,0,0,-1]]) # 2x7 matrix (2: number of views, 7: number of assets)\n",
    "Q = np.array([[0.05],[0.03]]) # 2-vector\n",
    "Omega = np.array([\n",
    "        [0.001065383332,0],\n",
    "        [0,0.0008517381]])"
   ]
  },
  {
   "cell_type": "code",
   "execution_count": 6,
   "metadata": {},
   "outputs": [],
   "source": [
    "# 見通しの反映\n",
    "# 期待収益率に反映\n",
    "r_posterior = r_eq + np.dot( np.dot( tau*np.dot(Sigma,P.T), np.linalg.inv(tau*np.dot(np.dot(P,Sigma),P.T)+Omega)), (Q-np.dot(P,r_eq)))\n",
    "# 共分散行列の反映\n",
    "Sigma_posterior = Sigma + tau*Sigma - tau*np.dot( np.dot( np.dot(Sigma,P.T), np.linalg.inv(tau*np.dot(np.dot(P,Sigma),P.T)+Omega)), tau*np.dot(P,Sigma))"
   ]
  },
  {
   "cell_type": "code",
   "execution_count": 8,
   "metadata": {},
   "outputs": [
    {
     "data": {
      "text/plain": [
       "<AxesSubplot:>"
      ]
     },
     "execution_count": 8,
     "metadata": {},
     "output_type": "execute_result"
    },
    {
     "data": {
      "image/png": "[encoded data removed]",
      "text/plain": [
       "<Figure size 432x288 with 1 Axes>"
      ]
     },
     "metadata": {
      "needs_background": "light"
     },
     "output_type": "display_data"
    }
   ],
   "source": [
    "# Forward Optimizationをして最適ウェイトを求める\n",
    "w_posterior = np.dot(np.linalg.inv(delta*Sigma_posterior), r_posterior)\n",
    "df = pd.DataFrame([w.reshape(7),w_posterior.reshape(7)],\n",
    "                  columns=['AUL','CAN','FRA','GER','JAP','UKG','USA'],\n",
    "                  index=['Equilibrium Weights','Constrained Optimal Weights'])\n",
    "df.T.plot(kind='bar', color='br')"
   ]
  },
  {
   "cell_type": "code",
   "execution_count": 9,
   "metadata": {},
   "outputs": [
    {
     "data": {
      "text/plain": [
       "array([[ 0.00484591],\n",
       "       [ 0.01814675],\n",
       "       [ 0.01121658],\n",
       "       [ 0.02182707],\n",
       "       [ 0.00313537],\n",
       "       [ 0.00203967],\n",
       "       [-0.00078487]])"
      ]
     },
     "execution_count": 9,
     "metadata": {},
     "output_type": "execute_result"
    }
   ],
   "source": [
    "np.dot( np.dot( tau*np.dot(Sigma,P.T), np.linalg.inv(tau*np.dot(np.dot(P,Sigma),P.T)+Omega)), (Q-np.dot(P,r_eq)))"
   ]
  },
  {
   "cell_type": "code",
   "execution_count": 16,
   "metadata": {},
   "outputs": [
    {
     "data": {
      "text/plain": [
       "array([[0.05],\n",
       "       [0.03]])"
      ]
     },
     "execution_count": 16,
     "metadata": {},
     "output_type": "execute_result"
    }
   ],
   "source": [
    "Q"
   ]
  },
  {
   "cell_type": "code",
   "execution_count": 17,
   "metadata": {},
   "outputs": [
    {
     "data": {
      "text/plain": [
       "array([[ 0.01790381],\n",
       "       [-0.00644857]])"
      ]
     },
     "execution_count": 17,
     "metadata": {},
     "output_type": "execute_result"
    }
   ],
   "source": [
    "np.dot(P,r_eq)"
   ]
  },
  {
   "cell_type": "code",
   "execution_count": 24,
   "metadata": {},
   "outputs": [
    {
     "data": {
      "text/plain": [
       "array([[0.03937555],\n",
       "       [0.0691519 ],\n",
       "       [0.08358087],\n",
       "       [0.0902724 ],\n",
       "       [0.0430281 ],\n",
       "       [0.06767693],\n",
       "       [0.07560047]])"
      ]
     },
     "execution_count": 24,
     "metadata": {},
     "output_type": "execute_result"
    }
   ],
   "source": [
    "r_eq.T.T"
   ]
  },
  {
   "cell_type": "code",
   "execution_count": null,
   "metadata": {},
   "outputs": [],
   "source": []
  }
 ],
 "metadata": {
  "kernelspec": {
   "display_name": "Python 3",
   "language": "python",
   "name": "python3"
  },
  "language_info": {
   "codemirror_mode": {
    "name": "ipython",
    "version": 3
   },
   "file_extension": ".py",
   "mimetype": "text/x-python",
   "name": "python",
   "nbconvert_exporter": "python",
   "pygments_lexer": "ipython3",
   "version": "3.7.6"
  }
 },
 "nbformat": 4,
 "nbformat_minor": 2
}
