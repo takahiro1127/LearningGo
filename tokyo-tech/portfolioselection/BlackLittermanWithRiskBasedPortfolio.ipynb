{
 "cells": [
  {
   "cell_type": "code",
   "execution_count": 65,
   "metadata": {},
   "outputs": [],
   "source": [
    "import numpy as np\n",
    "import pandas as pd\n",
    "from matplotlib import pyplot as plt\n",
    "import seaborn as sns\n",
    "from pypfopt.efficient_frontier import EfficientFrontier\n",
    "%matplotlib inline\n",
    "# portfolio optimizationのライブラリを使用\n",
    "# https://pyportfolioopt.readthedocs.io/en/latest/"
   ]
  },
  {
   "cell_type": "code",
   "execution_count": 77,
   "metadata": {},
   "outputs": [],
   "source": [
    "assetName = ['AUL','CAN','FRA','GER','JAP','UKG','USA']\n",
    "# 相関行列\n",
    "correlation = np.array([\n",
    "        [1, 0.488, 0.478, 0.515, 0.439, 0.512, 0.491],\n",
    "        [0.488, 1, 0.664, 0.655, 0.310, 0.608, 0.779],\n",
    "        [0.478, 0.664, 1, 0.861, 0.355, 0.783, 0.668],\n",
    "        [0.515, 0.655, 0.861, 1, 0.354, 0.777, 0.653],\n",
    "        [0.439, 0.310, 0.355, 0.354, 1, 0.405, 0.306],\n",
    "        [0.512, 0.608, 0.783, 0.777, 0.405, 1, 0.652],\n",
    "        [0.491, 0.779, 0.668, 0.653, 0.306, 0.652, 1]])\n",
    "# 標準偏差\n",
    "std = np.array([[0.16, 0.203, 0.248, 0.271, 0.21, 0.2, 0.187]])\n",
    "# 相関行列と標準偏差から共分散行列を計算\n",
    "Sigma = correlation * np.dot(std.T, std)\n",
    "Sigma = pd.DataFrame(Sigma, index = assetName, columns=assetName)"
   ]
  },
  {
   "cell_type": "code",
   "execution_count": 78,
   "metadata": {},
   "outputs": [],
   "source": [
    "# リスクベースポートフォリオの作成\n",
    "# 分散最小化\n",
    "min_risk_weight = EfficientFrontier(None, Sigma).min_volatility()"
   ]
  },
  {
   "cell_type": "code",
   "execution_count": 79,
   "metadata": {},
   "outputs": [],
   "source": [
    "# リスクベースポートフォリオを基に、Black Littermanを適用する\n",
    "# パラメータdelta, tai  値はHe&Litterman(1999)に従う\n",
    "delta = 2.5\n",
    "tau = 0.05\n",
    "# 均衡リターンを求める(reverse optimization)\n",
    "# ↑つまり、共分散行列とポートフォリオのweightから、期待収益を推定するという事\n",
    "r_eq = np.asmatrix(delta * np.dot(Sigma, np.array(list(min_risk_weight.values()), dtype=\"float\"))).T"
   ]
  },
  {
   "cell_type": "code",
   "execution_count": 80,
   "metadata": {},
   "outputs": [],
   "source": [
    "# 見通しの作成\n",
    "P = np.array([\n",
    "        [0,0,-0.295,1,0,-0.705,0],\n",
    "        [0,1,0,0,0,0,-1]]) # 2x7 matrix (2: number of views, 7: number of assets)\n",
    "Q = np.array([[0.05],[0.03]]) # 2-vector\n",
    "Omega = np.array([\n",
    "        [0.001065383332,0],\n",
    "        [0,0.0008517381]])"
   ]
  },
  {
   "cell_type": "code",
   "execution_count": 81,
   "metadata": {},
   "outputs": [],
   "source": [
    "# 見通しの反映\n",
    "# 期待収益率に反映\n",
    "r_posterior = r_eq + np.dot( np.dot( tau*np.dot(Sigma,P.T), np.linalg.inv(tau*np.dot(np.dot(P,Sigma),P.T)+Omega)), (Q-np.dot(P,r_eq)))\n",
    "# 共分散行列の反映\n",
    "Sigma_posterior = Sigma + tau*Sigma - tau*np.dot( np.dot( np.dot(Sigma,P.T), np.linalg.inv(tau*np.dot(np.dot(P,Sigma),P.T)+Omega)), tau*np.dot(P,Sigma))"
   ]
  },
  {
   "cell_type": "code",
   "execution_count": 84,
   "metadata": {},
   "outputs": [],
   "source": [
    "# Forward Optimizationをして最適ウェイトを求める\n",
    "w_posterior = np.dot(np.linalg.inv(delta*Sigma_posterior), r_posterior)"
   ]
  },
  {
   "cell_type": "code",
   "execution_count": 104,
   "metadata": {},
   "outputs": [
    {
     "data": {
      "text/plain": [
       "<AxesSubplot:>"
      ]
     },
     "execution_count": 104,
     "metadata": {},
     "output_type": "execute_result"
    },
    {
     "data": {
      "image/png": "[encoded data removed]",
      "text/plain": [
       "<Figure size 432x288 with 1 Axes>"
      ]
     },
     "metadata": {
      "needs_background": "light"
     },
     "output_type": "display_data"
    }
   ],
   "source": [
    "df = pd.DataFrame([min_risk_weight.values(),np.asarray(w_posterior).flatten()],\n",
    "                  columns=assetName,\n",
    "                  index=['Equilibrium Weights','Constrained Optimal Weights'])\n",
    "df.T.plot(kind='bar', color='br')"
   ]
  },
  {
   "cell_type": "code",
   "execution_count": 103,
   "metadata": {},
   "outputs": [
    {
     "data": {
      "text/plain": [
       "array([ 0.4510335 ,  0.36172645, -0.09820511,  0.33289868,  0.18918707,\n",
       "       -0.18188964, -0.10236999])"
      ]
     },
     "execution_count": 103,
     "metadata": {},
     "output_type": "execute_result"
    }
   ],
   "source": []
  },
  {
   "cell_type": "code",
   "execution_count": 62,
   "metadata": {},
   "outputs": [
    {
     "data": {
      "text/plain": [
       "array([0.05002065, 0.05002065, 0.05835142, 0.06509754, 0.05002065,\n",
       "       0.05002065, 0.05002065])"
      ]
     },
     "execution_count": 62,
     "metadata": {},
     "output_type": "execute_result"
    }
   ],
   "source": [
    "r_eq.T.T"
   ]
  },
  {
   "cell_type": "code",
   "execution_count": null,
   "metadata": {},
   "outputs": [],
   "source": []
  }
 ],
 "metadata": {
  "kernelspec": {
   "display_name": "Python 3",
   "language": "python",
   "name": "python3"
  },
  "language_info": {
   "codemirror_mode": {
    "name": "ipython",
    "version": 3
   },
   "file_extension": ".py",
   "mimetype": "text/x-python",
   "name": "python",
   "nbconvert_exporter": "python",
   "pygments_lexer": "ipython3",
   "version": "3.7.6"
  }
 },
 "nbformat": 4,
 "nbformat_minor": 4
}
