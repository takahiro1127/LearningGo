{
 "cells": [
  {
   "cell_type": "code",
   "execution_count": 98,
   "metadata": {},
   "outputs": [],
   "source": [
    "import numpy as np\n",
    "import pandas as pd\n",
    "from matplotlib import pyplot as plt\n",
    "import seaborn as sns\n",
    "import requests\n",
    "from bs4 import BeautifulSoup\n",
    "import datetime\n",
    "%matplotlib inline"
   ]
  },
  {
   "cell_type": "code",
   "execution_count": 105,
   "metadata": {},
   "outputs": [],
   "source": [
    "# 日本円のレートをかけることで、レートを変換するという手もある。\n",
    "assetNames = ['EURO', 'AUL', 'CAN','FRA','GER','JAP', 'USA']\n",
    "fileNames = ['EZU','EWA' ,'EWC','EWQ','EWG','EWJ', '^GSPC']\n",
    "prices = pd.read_csv('price.csv', index_col=0)"
   ]
  },
  {
   "cell_type": "code",
   "execution_count": null,
   "metadata": {},
   "outputs": [],
   "source": []
  },
  {
   "cell_type": "code",
   "execution_count": 106,
   "metadata": {},
   "outputs": [
    {
     "name": "stdout",
     "output_type": "stream",
     "text": [
      "https://finance.yahoo.com/quote/EZU?p=EZU&.tsrc=fin-srch\n",
      "https://finance.yahoo.com/quote/EWA?p=EWA&.tsrc=fin-srch\n",
      "https://finance.yahoo.com/quote/EWC?p=EWC&.tsrc=fin-srch\n",
      "https://finance.yahoo.com/quote/EWQ?p=EWQ&.tsrc=fin-srch\n",
      "https://finance.yahoo.com/quote/EWG?p=EWG&.tsrc=fin-srch\n",
      "https://finance.yahoo.com/quote/EWJ?p=EWJ&.tsrc=fin-srch\n",
      "https://finance.yahoo.com/quote/^GSPC?p=^GSPC&.tsrc=fin-srch\n"
     ]
    }
   ],
   "source": [
    "# Webページを取得して解析する\n",
    "newDatas = {}\n",
    "index = 0\n",
    "for fileName in fileNames:\n",
    "        load_url = \"https://finance.yahoo.com/quote/\" + fileName + \"?p=\" + fileName + \"&.tsrc=fin-srch\"\n",
    "        print(load_url)\n",
    "        html = requests.get(load_url)\n",
    "        soup = BeautifulSoup(html.content, \"html.parser\")\n",
    "        newDatas[assetNames[index]] = soup.find(\"td\", attrs={\"data-test\" : \"PREV_CLOSE-value\"}).find(\"span\", attrs={'class': 'Trsdu(0.3s)'}).get_text().replace(',', '')\n",
    "        index += 1"
   ]
  },
  {
   "cell_type": "code",
   "execution_count": 107,
   "metadata": {},
   "outputs": [],
   "source": [
    "# csvへ保存\n",
    "index = 0\n",
    "for newData in newDatas.values():\n",
    "        prices.loc[datetime.datetime.now().strftime('%Y-%m-%d'), assetNames[index]] = newData\n",
    "        index += 1\n",
    "prices.to_csv('price.csv')"
   ]
  },
  {
   "cell_type": "code",
   "execution_count": null,
   "metadata": {},
   "outputs": [],
   "source": []
  },
  {
   "cell_type": "code",
   "execution_count": null,
   "metadata": {},
   "outputs": [],
   "source": []
  },
  {
   "cell_type": "code",
   "execution_count": null,
   "metadata": {},
   "outputs": [],
   "source": []
  },
  {
   "cell_type": "code",
   "execution_count": null,
   "metadata": {},
   "outputs": [],
   "source": []
  }
 ],
 "metadata": {
  "kernelspec": {
   "display_name": "Python 3",
   "language": "python",
   "name": "python3"
  },
  "language_info": {
   "codemirror_mode": {
    "name": "ipython",
    "version": 3
   },
   "file_extension": ".py",
   "mimetype": "text/x-python",
   "name": "python",
   "nbconvert_exporter": "python",
   "pygments_lexer": "ipython3",
   "version": "3.7.6"
  }
 },
 "nbformat": 4,
 "nbformat_minor": 4
}
