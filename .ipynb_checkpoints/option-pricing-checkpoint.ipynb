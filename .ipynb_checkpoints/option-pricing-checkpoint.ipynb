{
 "cells": [
  {
   "cell_type": "markdown",
   "metadata": {},
   "source": [
    "# Option Pricing and Prepare for Risk\n",
    "- Uehara Takahiro\n",
    "- Tokyo Institute of Technology  \n",
    "- Master Degree  \n",
    "- takahiro.steadtler@gmail.com"
   ]
  },
  {
   "cell_type": "code",
   "execution_count": 26,
   "metadata": {
    "_cell_guid": "b1076dfc-b9ad-4769-8c92-a6c4dae69d19",
    "_kg_hide-input": false,
    "_uuid": "8f2839f25d086af736a60e9eeb907d3b93b6e0e5"
   },
   "outputs": [],
   "source": [
    "import os\n",
    "import numpy as np\n",
    "import pandas as pd\n",
    "import xgboost as xgb\n",
    "import seaborn as sns\n",
    "from xgboost import DMatrix\n",
    "import matplotlib.pyplot as plt\n",
    "from xgboost import plot_importance, plot_tree\n",
    "from sklearn.metrics import mean_squared_error\n",
    "from sklearn.preprocessing import MinMaxScaler\n",
    "from sklearn.model_selection import train_test_split, GridSearchCV\n",
    "from sklearn.metrics import confusion_matrix, recall_score\n",
    "import lightgbm as lgb\n",
    "from sklearn.metrics import accuracy_score\n",
    "from tqdm import tqdm\n",
    "import plotly as py\n",
    "import plotly.io as pio\n",
    "import plotly.graph_objects as go\n",
    "from plotly.subplots import make_subplots\n",
    "from plotly.offline import download_plotlyjs, init_notebook_mode, plot, iplot\n",
    "from warnings import simplefilter"
   ]
  },
  {
   "cell_type": "markdown",
   "metadata": {},
   "source": [
    "## Ready const\n",
    "ready constant given by task mail"
   ]
  },
  {
   "cell_type": "code",
   "execution_count": 27,
   "metadata": {},
   "outputs": [],
   "source": [
    "# current price of underlying asset\n",
    "current_price = 100\n",
    "# array of pair of probability and tommorow price\n",
    "# lower_price must be lower than current price, higher_price must be higher than current price, \n",
    "patterns = {'lower_price' : {'probability': 0.5, 'tomorrow_rate': 0.9}, 'higher_price' : {'probability': 0.5, 'tomorrow_rate': 1.2}}\n",
    "# ten year risk free rate\n",
    "ten_year_risk_free_rate = 0.0081\n",
    "# one day risk free rate\n",
    "one_day_risk_free_rate = 1.0081 ** (1/3650)\n",
    "# calc probability based on risk free rate and tomorrow rate\n",
    "q = (one_day_risk_free_rate - patterns['lower_price']['tomorrow_rate']) / (patterns['higher_price']['tomorrow_rate'] - patterns['lower_price']['tomorrow_rate'])"
   ]
  },
  {
   "cell_type": "markdown",
   "metadata": {},
   "source": [
    "## How to solve task2\n",
    "I would like to use binomial model to find the option premium corresponding to the strike price.  \n",
    "In addition, I would like to use the same theory to construct a portfolio to protect against risk."
   ]
  },
  {
   "cell_type": "markdown",
   "metadata": {},
   "source": [
    "## Functions to calculate the option premium based on the strike price\n",
    "In this case, we define the variables as follows.  \n",
    "$u : $The first of the underlying asset price projections  \n",
    "$d : $The second of the underlying asset price projections  \n",
    "$R : $Risk-free interest rate  \n",
    "The price of the options if each state of $u$ and $d$ is realized is as shown in the equation below.  \n",
    "$C_u = max(uS - K, 0)$  \n",
    "$C_d = max(dS - K, 0)$  \n",
    "The function named \"option_premium_depends_on_tomorrow_rate_and_strike_price\" at the bottom represents the two expressions above.  \n",
    "  \n",
    "If we know the probability of each state happening, we can find the current option price as an expected value.  \n",
    "The reason we divide by R is to take into account the risk-free assets.  \n",
    "We have expressed this in the equation below.  \n",
    "$C = \\frac{1}{R}[qC_u + (1-q)C_d]$  \n",
    "The function named \"option_premium_based_on_probability\" represents the above equation."
   ]
  },
  {
   "cell_type": "code",
   "execution_count": 28,
   "metadata": {
    "_cell_guid": "79c7e3d0-c299-4dcb-8224-4455121ee9b0",
    "_uuid": "d629ff2d2480ee46fbb7e2d37f6b5fab8052498a"
   },
   "outputs": [],
   "source": [
    "def option_premium_depends_on_tomorrow_rate_and_strike_price(strike_price, pattern):\n",
    "    return max(pattern['tomorrow_rate'] * current_price - strike_price, 0)\n",
    "\n",
    "def option_premium_based_on_probability(strike_price, probability = q):\n",
    "    return (probability * option_premium_depends_on_tomorrow_rate_and_strike_price(strike_price, patterns['higher_price']) + (1 - probability) * option_premium_depends_on_tomorrow_rate_and_strike_price(strike_price, patterns['lower_price'])) / one_day_risk_free_rate"
   ]
  },
  {
   "cell_type": "markdown",
   "metadata": {},
   "source": [
    "## Function to structure the portfolio based on the strike price\n",
    "I would like to replicate the option prices in the event of each of $u$ and $d$, with a portfolio of risk-free assets and the underlying assets.  \n",
    "The $x$ represents the amount of the underlying asset should have.  \n",
    "The $b$ represents the amount of the risk-free assets should have.  \n",
    "$ux + Rb = C_u$  \n",
    "$dx + Rb = C_d$  \n",
    "Solving this simultaneous equation, $x$ and $b$ are obtained as follows.  \n",
    "$x = \\frac{C_u - C_d}{u - d}$  \n",
    "$b = \\frac{uC_d - dC_u}{R(u - d)}$  \n",
    "The function named \"doller_to_have_stock\" at the bottom represents $x$ above.  \n",
    "The function named \"doller_to_have_risk_free\" at the bottom represents $b$ above.  "
   ]
  },
  {
   "cell_type": "code",
   "execution_count": 29,
   "metadata": {},
   "outputs": [],
   "source": [
    "def doller_to_have_stock(strike_price):\n",
    "    return (option_premium_depends_on_tomorrow_rate_and_strike_price(strike_price, patterns['higher_price']) - option_premium_depends_on_tomorrow_rate_and_strike_price(strike_price, patterns['lower_price'])) / (patterns['higher_price']['tomorrow_rate'] - patterns['lower_price']['tomorrow_rate'])\n",
    "\n",
    "def doller_to_have_risk_free(strike_price):\n",
    "    return (patterns['higher_price']['tomorrow_rate'] * option_premium_depends_on_tomorrow_rate_and_strike_price(strike_price, patterns['lower_price']) - patterns['lower_price']['tomorrow_rate'] * option_premium_depends_on_tomorrow_rate_and_strike_price(strike_price, patterns['higher_price'])) / (one_day_risk_free_rate * (patterns['higher_price']['tomorrow_rate'] - patterns['lower_price']['tomorrow_rate']))"
   ]
  },
  {
   "cell_type": "markdown",
   "metadata": {},
   "source": [
    "## Outputs values according to the strike price\n",
    "I output each value by varying the strike price from 0 to 200.  \n",
    "- \"option_premium represents\" represents an option premium that requires the customer to pay(The probability of $u$ and $d$ are based on the above q).  \n",
    "- \"option_premium_equal_probability\" represents an option premium that requires the customer to pay(The probability of $u$ and $d$ are equal.).  \n",
    "- \"stock_doller_in_portfolio\" represents how much of the underlying asset  we should hold when we sell one option.  \n",
    "- \"risk_free_doller_in_portfolio\" represents how much of a risk-free asset we should hold when we sell one option.  \n",
    "\n"
   ]
  },
  {
   "cell_type": "code",
   "execution_count": 32,
   "metadata": {},
   "outputs": [
    {
     "data": {
      "text/plain": [
       "<matplotlib.axes._subplots.AxesSubplot at 0x7fc8fe1b3d10>"
      ]
     },
     "execution_count": 32,
     "metadata": {},
     "output_type": "execute_result"
    },
    {
     "data": {
      "image/png": "[encoded data removed]",
      "text/plain": [
       "<Figure size 432x288 with 1 Axes>"
      ]
     },
     "metadata": {
      "needs_background": "light"
     },
     "output_type": "display_data"
    }
   ],
   "source": [
    "results = pd.DataFrame(columns = ['strike_price', 'option_premium', 'option_premium_equal_probability', 'stock_doller_in_portfolio', 'risk_free_doller_in_portfolio'])\n",
    "strike_prices = []\n",
    "option_premiums = []\n",
    "stock_dollers_in_portfolio = []\n",
    "option_premiums_equal_probability = []\n",
    "risk_free_dollers_in_portfolio = []\n",
    "for strike_price in range(max(current_price - 1000, 0), current_price * 2):\n",
    "    strike_prices.append(strike_price)\n",
    "    option_premiums.append(option_premium_based_on_probability(strike_price, q))\n",
    "    option_premiums_equal_probability.append(option_premium_based_on_probability(strike_price, 0.5))\n",
    "    stock_dollers_in_portfolio.append(doller_to_have_stock(strike_price))\n",
    "    risk_free_dollers_in_portfolio.append(doller_to_have_risk_free(strike_price))   \n",
    "results['strike_price'] = strike_prices\n",
    "results['option_premium'] = option_premiums\n",
    "results['option_premium_equal_probability'] = option_premiums_equal_probability\n",
    "results['stock_doller_in_portfolio'] = stock_dollers_in_portfolio\n",
    "results['risk_free_doller_in_portfolio'] = risk_free_dollers_in_portfolio\n",
    "results = results.set_index('strike_price')\n",
    "results.plot()"
   ]
  },
  {
   "cell_type": "markdown",
   "metadata": {},
   "source": [
    "  \n",
    "## Answer\n",
    "For \"task2\", I have to sell 1000 options, so I have to multiply the value in results by 1000.  \n",
    "For example, if I sell the right to buy stock A for $105 to a customer, it would look like this below.  \n",
    "(If it is negative, it indicates that we are taking out a loan.)"
   ]
  },
  {
   "cell_type": "code",
   "execution_count": 43,
   "metadata": {},
   "outputs": [
    {
     "data": {
      "text/html": [
       "<div>\n",
       "<style scoped>\n",
       "    .dataframe tbody tr th:only-of-type {\n",
       "        vertical-align: middle;\n",
       "    }\n",
       "\n",
       "    .dataframe tbody tr th {\n",
       "        vertical-align: top;\n",
       "    }\n",
       "\n",
       "    .dataframe thead th {\n",
       "        text-align: right;\n",
       "    }\n",
       "</style>\n",
       "<table border=\"1\" class=\"dataframe\">\n",
       "  <thead>\n",
       "    <tr style=\"text-align: right;\">\n",
       "      <th></th>\n",
       "      <th>option_price</th>\n",
       "      <th>option_price_equal_probability</th>\n",
       "      <th>stock_doller_in_portfolio</th>\n",
       "      <th>risk_free_doller_in_portfolio</th>\n",
       "    </tr>\n",
       "    <tr>\n",
       "      <th>strike_price</th>\n",
       "      <th></th>\n",
       "      <th></th>\n",
       "      <th></th>\n",
       "      <th></th>\n",
       "    </tr>\n",
       "  </thead>\n",
       "  <tbody>\n",
       "    <tr>\n",
       "      <th>105</th>\n",
       "      <td>5000.099461</td>\n",
       "      <td>7499.983423</td>\n",
       "      <td>50000.0</td>\n",
       "      <td>-44999.900539</td>\n",
       "    </tr>\n",
       "  </tbody>\n",
       "</table>\n",
       "</div>"
      ],
      "text/plain": [
       "              option_price  option_price_equal_probability  \\\n",
       "strike_price                                                 \n",
       "105            5000.099461                     7499.983423   \n",
       "\n",
       "              stock_doller_in_portfolio  risk_free_doller_in_portfolio  \n",
       "strike_price                                                            \n",
       "105                             50000.0                  -44999.900539  "
      ]
     },
     "execution_count": 43,
     "metadata": {},
     "output_type": "execute_result"
    }
   ],
   "source": [
    "results[105:106] * 1000"
   ]
  }
 ],
 "metadata": {
  "kernelspec": {
   "display_name": "Python 3",
   "language": "python",
   "name": "python3"
  },
  "language_info": {
   "codemirror_mode": {
    "name": "ipython",
    "version": 3
   },
   "file_extension": ".py",
   "mimetype": "text/x-python",
   "name": "python",
   "nbconvert_exporter": "python",
   "pygments_lexer": "ipython3",
   "version": "3.7.6"
  }
 },
 "nbformat": 4,
 "nbformat_minor": 4
}
